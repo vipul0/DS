{
  "nbformat": 4,
  "nbformat_minor": 0,
  "metadata": {
    "colab": {
      "name": "Singly Linked  List.ipynb",
      "provenance": [],
      "collapsed_sections": [],
      "authorship_tag": "ABX9TyO0LWIVYWOFYR9PG2Cr1cWf",
      "include_colab_link": true
    },
    "kernelspec": {
      "name": "python3",
      "display_name": "Python 3"
    },
    "language_info": {
      "name": "python"
    }
  },
  "cells": [
    {
      "cell_type": "markdown",
      "metadata": {
        "id": "view-in-github",
        "colab_type": "text"
      },
      "source": [
        "<a href=\"https://colab.research.google.com/github/vipul0/DS/blob/main/Linked%20List/Singly_Linked_List.ipynb\" target=\"_parent\"><img src=\"https://colab.research.google.com/assets/colab-badge.svg\" alt=\"Open In Colab\"/></a>"
      ]
    },
    {
      "cell_type": "code",
      "metadata": {
        "id": "vpgK-acTVi9v"
      },
      "source": [
        "class Node():\n",
        "    def __init__(self,data=None):\n",
        "        self.data=data\n",
        "        self.next=None\n",
        "        \n",
        "class LinkedList(Node):\n",
        "    def __init__(self):\n",
        "        self.head=None\n",
        "        \n",
        "    def isEmpty(self):\n",
        "        return self.head==None\n",
        "    \n",
        "    def addFirst(self,value):\n",
        "        newnode=Node(value)\n",
        "        if self.isEmpty():\n",
        "            self.head=newnode\n",
        "        else:\n",
        "            newnode.next=self.head\n",
        "            self.head=newnode\n",
        "            \n",
        "    def addLast(self,value):\n",
        "        newnode=Node(value)\n",
        "        if self.isEmpty():\n",
        "            print(\"Empty List, adding to the start\")\n",
        "            self.head=newnode\n",
        "        else:\n",
        "            n=self.head\n",
        "            while n.next!=None:\n",
        "                n=n.next\n",
        "            n.next=newnode\n",
        "        \n",
        "    def add(self,index,value):\n",
        "        pass\n",
        "    \n",
        "    def removeFirst(self):\n",
        "        if self.isEmpty():\n",
        "            print(\"No Element to remove\")\n",
        "        else:\n",
        "            n=self.head\n",
        "            print(n.data)\n",
        "            n=n.next\n",
        "            self.head=n\n",
        "        \n",
        "    def removeLast(self):\n",
        "        if self.isEmpty():\n",
        "            print(\"No Element to remove\")\n",
        "        else:\n",
        "            last=None\n",
        "            First=None\n",
        "            n=self.head\n",
        "            while n!=None:\n",
        "                last=First\n",
        "                First=n\n",
        "                n=n.next\n",
        "            print(First.data)\n",
        "            last.next=None\n",
        "            \n",
        "    def remove(self,i):\n",
        "        pass\n",
        "    \n",
        "    def get(self,index):\n",
        "        pass\n",
        "\n",
        "    def display(self):\n",
        "        if self.head == None:\n",
        "            return print(\"Empty List\")\n",
        "        else:\n",
        "            n=self.head\n",
        "            while n!=None:\n",
        "                print(n.data,end=\" \")\n",
        "                n=n.next\n",
        "            print()\n",
        "                \n",
        "    def contains(self,value):\n",
        "        n=self.head\n",
        "        while n!=None:\n",
        "            if n.data==value:\n",
        "                return True\n",
        "            n=n.next\n",
        "        return False\n",
        "            \n",
        "    def size(self):\n",
        "        count=0\n",
        "        n=self.head\n",
        "        f=True\n",
        "        while f:\n",
        "            if n.next==None:\n",
        "                count+=1\n",
        "                f=False\n",
        "                break\n",
        "            else:\n",
        "                count+=1\n",
        "                n=n.next\n",
        "        return count"
      ],
      "execution_count": 19,
      "outputs": []
    },
    {
      "cell_type": "code",
      "metadata": {
        "colab": {
          "base_uri": "https://localhost:8080/"
        },
        "id": "WAjF7qD0Vo34",
        "outputId": "dd6d0634-c09c-4358-c8f1-908c13fd5888"
      },
      "source": [
        "l1=LinkedList()\n",
        "l1.addFirst(10)\n",
        "l1.addFirst(5)\n",
        "l1.addLast(15)\n",
        "l1.addLast(20)\n",
        "\n",
        "print(\"size\")\n",
        "l1.size()\n",
        "l1.removeFirst()\n",
        "l1.display()\n",
        "l1.removeLast()\n",
        "\n",
        "\n",
        "l1.display()\n",
        "l1.contains(20)\n",
        "l1.contains(10)\n",
        "l1.removeLast()\n",
        "l1.removeFirst()\n",
        "\n",
        "l1.display()\n",
        "\n"
      ],
      "execution_count": 20,
      "outputs": [
        {
          "output_type": "stream",
          "text": [
            "size\n",
            "5\n",
            "10 15 20 \n",
            "20\n",
            "10 15 \n",
            "15\n",
            "10\n",
            "Empty List\n"
          ],
          "name": "stdout"
        }
      ]
    }
  ]
}