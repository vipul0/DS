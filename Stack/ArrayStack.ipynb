{
  "nbformat": 4,
  "nbformat_minor": 0,
  "metadata": {
    "colab": {
      "name": "ArrayStack.ipynb",
      "provenance": [],
      "authorship_tag": "ABX9TyMAPkEFzBFszdkn9W+Y5j13",
      "include_colab_link": true
    },
    "kernelspec": {
      "name": "python3",
      "display_name": "Python 3"
    },
    "language_info": {
      "name": "python"
    }
  },
  "cells": [
    {
      "cell_type": "markdown",
      "metadata": {
        "id": "view-in-github",
        "colab_type": "text"
      },
      "source": [
        "<a href=\"https://colab.research.google.com/github/vipul0/DS/blob/main/Stack/ArrayStack.ipynb\" target=\"_parent\"><img src=\"https://colab.research.google.com/assets/colab-badge.svg\" alt=\"Open In Colab\"/></a>"
      ]
    },
    {
      "cell_type": "code",
      "metadata": {
        "colab": {
          "base_uri": "https://localhost:8080/"
        },
        "id": "ZU09EzGB2KUm",
        "outputId": "f0a586bb-d1e7-4451-de6a-c20ecbbea963"
      },
      "source": [
        "class ArrayStack():\n",
        "    \n",
        "    def __init__(self):\n",
        "        self.array=[None]*10\n",
        "        self.size=0\n",
        "        \n",
        "    def isFull(self):\n",
        "        return self.size==len(self.array)\n",
        "    \n",
        "    def resize(self):\n",
        "        newArray=[None]*(len(self.array)*2)\n",
        "        for i in range(self.size):\n",
        "            newArray[i]=self.array[i]\n",
        "        self.array=newArray\n",
        "    \n",
        "    \n",
        "    #all Public methods\n",
        "    \n",
        "    def push(self,x):\n",
        "        if self.isFull():\n",
        "            self.resize()\n",
        "        self.array[self.size]=x\n",
        "        self.size+=1\n",
        "        \n",
        "        \n",
        "    def pop(self):\n",
        "        self.array[self.size-1]=None\n",
        "        self.size-=1\n",
        "        \n",
        "    def top(self):\n",
        "        return self.array[self.size-1]\n",
        "        \n",
        "    \n",
        "    def display(self):\n",
        "        for i in range(self.size):\n",
        "            print(self.array[i],sep=\" \",end=\" \")\n",
        "        print()\n",
        "            \n",
        "    def stackSize(self):\n",
        "        print(self.size)\n",
        "\n",
        "\n",
        "def main():\n",
        "    stack1=ArrayStack()\n",
        "    for i in range(2,14):\n",
        "        stack1.push(i)\n",
        "        stack1.display()\n",
        "        \n",
        "    stack1.pop()\n",
        "    print(stack1.top())\n",
        "    stack1.display()\n",
        "    stack1.stackSize()\n",
        "\n",
        "        \n",
        "    \n",
        "    \n",
        "if __name__ == \"__main__\":\n",
        "    main()"
      ],
      "execution_count": 1,
      "outputs": [
        {
          "output_type": "stream",
          "text": [
            "2 \n",
            "2 3 \n",
            "2 3 4 \n",
            "2 3 4 5 \n",
            "2 3 4 5 6 \n",
            "2 3 4 5 6 7 \n",
            "2 3 4 5 6 7 8 \n",
            "2 3 4 5 6 7 8 9 \n",
            "2 3 4 5 6 7 8 9 10 \n",
            "2 3 4 5 6 7 8 9 10 11 \n",
            "2 3 4 5 6 7 8 9 10 11 12 \n",
            "2 3 4 5 6 7 8 9 10 11 12 13 \n",
            "12\n",
            "2 3 4 5 6 7 8 9 10 11 12 \n",
            "11\n"
          ],
          "name": "stdout"
        }
      ]
    },
    {
      "cell_type": "code",
      "metadata": {
        "id": "DNornizx2QUy"
      },
      "source": [
        ""
      ],
      "execution_count": null,
      "outputs": []
    }
  ]
}