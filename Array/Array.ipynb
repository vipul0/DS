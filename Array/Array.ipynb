{
  "nbformat": 4,
  "nbformat_minor": 0,
  "metadata": {
    "colab": {
      "name": "Untitled0.ipynb",
      "provenance": [],
      "authorship_tag": "ABX9TyO56iTo1gs2GFKQfpuY0/wM",
      "include_colab_link": true
    },
    "kernelspec": {
      "name": "python3",
      "display_name": "Python 3"
    },
    "language_info": {
      "name": "python"
    }
  },
  "cells": [
    {
      "cell_type": "markdown",
      "metadata": {
        "id": "view-in-github",
        "colab_type": "text"
      },
      "source": [
        "<a href=\"https://colab.research.google.com/github/vipul0/DS/blob/main/Array/Array.ipynb\" target=\"_parent\"><img src=\"https://colab.research.google.com/assets/colab-badge.svg\" alt=\"Open In Colab\"/></a>"
      ]
    },
    {
      "cell_type": "code",
      "metadata": {
        "colab": {
          "base_uri": "https://localhost:8080/"
        },
        "id": "AGr2KEQlZOog",
        "outputId": "217700a6-2b67-41df-947c-24f380228f13"
      },
      "source": [
        "\n",
        "class ArrayList():\n",
        "    \n",
        "    def __init__(self):\n",
        "        self.array=[None]*10\n",
        "        self.size=0\n",
        "        \n",
        "    def isFull(self):\n",
        "        return self.size==len(self.array)\n",
        "    \n",
        "    def resize(self):\n",
        "        newArray=[None]*(len(self.array)*2)\n",
        "        for i in range(self.size):\n",
        "            newArray[i]=self.array[i]\n",
        "        self.array=newArray\n",
        "\n",
        "    def shiftRight(self,n):\n",
        "        i=self.size-1\n",
        "        while i >= n:\n",
        "            self.array[i+1]=self.array[i]\n",
        "            i-=1\n",
        "            \n",
        "            \n",
        "    def shiftLeft(self,n):\n",
        "        while n<self.size:\n",
        "            self.array[n]=self.array[n+1]\n",
        "            n+=1\n",
        "    \n",
        "    \n",
        "    #all Public methods\n",
        "    def addFirst(self,x):\n",
        "        if self.isFull():\n",
        "            self.resize()\n",
        "        self.shiftRight(0)\n",
        "        self.array[0]=x\n",
        "        self.size+=1\n",
        "    \n",
        "    def addLast(self,x):\n",
        "        if self.isFull():\n",
        "            self.resize()\n",
        "        self.array[self.size]=x\n",
        "        self.size+=1\n",
        "        \n",
        "    def removeFirst(self):\n",
        "        self.shiftLeft(0)\n",
        "        self.size-=1\n",
        "        \n",
        "    def removelast(self):\n",
        "        self.array[self.size-1]=None\n",
        "        self.size-=1\n",
        "        \n",
        "    def get(self,i):\n",
        "        return self.array[i]\n",
        "    \n",
        "    def contains(self,x):\n",
        "        for i in range(self.size):\n",
        "            if x==self.array[i]:\n",
        "                return True\n",
        "        return False\n",
        "    \n",
        "    def display(self):\n",
        "        for i in range(self.size):\n",
        "            print(self.array[i],sep=\" \",end=\" \")\n",
        "        print()\n",
        "            \n",
        "    def arraySize(self):\n",
        "        return self.size\n",
        "    \n",
        "    def add(self,i,x):\n",
        "        if self.isFull():\n",
        "            self.resize()\n",
        "        self.shiftRight(i)\n",
        "        self.array[i]=x\n",
        "        self.size+=1\n",
        "    \n",
        "    def remove(self,i):\n",
        "        self.shiftLeft(i)\n",
        "    \n",
        "    def sort(self):\n",
        "        pass\n",
        "        \n",
        "def main():\n",
        "    list1=ArrayList()\n",
        "    for i in range(1,6):\n",
        "        list1.addFirst(i)\n",
        "        list1.display()\n",
        "    \n",
        "if __name__ == \"__main__\":\n",
        "    main()"
      ],
      "execution_count": 1,
      "outputs": [
        {
          "output_type": "stream",
          "text": [
            "1 \n",
            "2 1 \n",
            "3 2 1 \n",
            "4 3 2 1 \n",
            "5 4 3 2 1 \n"
          ],
          "name": "stdout"
        }
      ]
    },
    {
      "cell_type": "code",
      "metadata": {
        "id": "mEJms8A2ZQKS"
      },
      "source": [
        ""
      ],
      "execution_count": null,
      "outputs": []
    }
  ]
}